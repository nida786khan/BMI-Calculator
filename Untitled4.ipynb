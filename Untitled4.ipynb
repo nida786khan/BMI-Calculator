{
  "nbformat": 4,
  "nbformat_minor": 0,
  "metadata": {
    "colab": {
      "provenance": [],
      "authorship_tag": "ABX9TyM8QfLc6i+HiqOwGR+qOSeK",
      "include_colab_link": true
    },
    "kernelspec": {
      "name": "python3",
      "display_name": "Python 3"
    },
    "language_info": {
      "name": "python"
    }
  },
  "cells": [
    {
      "cell_type": "markdown",
      "metadata": {
        "id": "view-in-github",
        "colab_type": "text"
      },
      "source": [
        "<a href=\"https://colab.research.google.com/github/nida786khan/BMI-Calculator/blob/main/Untitled4.ipynb\" target=\"_parent\"><img src=\"https://colab.research.google.com/assets/colab-badge.svg\" alt=\"Open In Colab\"/></a>"
      ]
    },
    {
      "cell_type": "code",
      "execution_count": null,
      "metadata": {
        "id": "bXXx9Yl4oyke",
        "outputId": "f8aad44e-13f2-4a2a-9778-e82143705621",
        "colab": {
          "base_uri": "https://localhost:8080/"
        }
      },
      "outputs": [
        {
          "output_type": "stream",
          "name": "stdout",
          "text": [
            "Think of a number between 1 and 10, and I will try to guess it!\n",
            "My guess is: 4\n"
          ]
        }
      ],
      "source": [
        "import random\n",
        "\n",
        "print(\"Think of a number between 1 and 10, and I will try to guess it!\")\n",
        "\n",
        "low, high = 1, 10\n",
        "\n",
        "while True:\n",
        "    guess = random.randint(low, high)  # Computer ek number guess karega\n",
        "    print(f\"My guess is: {guess}\")\n",
        "\n",
        "    user_input = input(\"Is it (h)igh, (l)ow, or (c)orrect? \").lower()\n",
        "\n",
        "    if user_input == \"c\":\n",
        "        print(\"🎉 Yay! I guessed it right!\")\n",
        "        break  # Sahi guess ho gaya, game over\n",
        "    elif user_input == \"h\":\n",
        "        high = guess - 1  # Upper limit kam karna\n",
        "    elif user_input == \"l\":\n",
        "        low = guess + 1  # Lower limit badhana\n",
        "    else:\n",
        "        print(\"❌ Invalid input, please enter h, l, or c.\")\n"
      ]
    }
  ]
}